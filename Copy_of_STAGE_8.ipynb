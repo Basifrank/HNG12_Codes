{
  "nbformat": 4,
  "nbformat_minor": 0,
  "metadata": {
    "colab": {
      "provenance": [],
      "mount_file_id": "1Z8mXu-Z1P_1ud1WZaZDsCM3grp1XiPdR",
      "authorship_tag": "ABX9TyMc52H/1dEyb/XGVVFY9ccm",
      "include_colab_link": true
    },
    "kernelspec": {
      "name": "python3",
      "display_name": "Python 3"
    },
    "language_info": {
      "name": "python"
    }
  },
  "cells": [
    {
      "cell_type": "markdown",
      "metadata": {
        "id": "view-in-github",
        "colab_type": "text"
      },
      "source": [
        "<a href=\"https://colab.research.google.com/github/Basifrank/HNG12_Codes/blob/main/Copy_of_STAGE_8.ipynb\" target=\"_parent\"><img src=\"https://colab.research.google.com/assets/colab-badge.svg\" alt=\"Open In Colab\"/></a>"
      ]
    },
    {
      "cell_type": "code",
      "source": [
        "import pandas as pd\n",
        "import numpy as np\n",
        "import matplotlib.pyplot as plt\n",
        "import seaborn as sns\n",
        "import plotly.express as px\n",
        "import plotly.graph_objects as go\n",
        "from plotly.subplots import make_subplots\n",
        "from sklearn.preprocessing import LabelEncoder\n",
        "from sklearn.model_selection import train_test_split\n",
        "from sklearn.linear_model import LinearRegression\n",
        "from sklearn.metrics import mean_squared_error, r2_score\n",
        "\n",
        "import geopy\n",
        "from geopy.geocoders import ArcGIS\n",
        "geolocator_arcgis = ArcGIS()\n",
        "\n",
        "import warnings\n",
        "warnings.filterwarnings('ignore')\n"
      ],
      "metadata": {
        "id": "CAmJyu4N5e-P"
      },
      "execution_count": null,
      "outputs": []
    },
    {
      "cell_type": "code",
      "execution_count": null,
      "metadata": {
        "id": "SDshFi7W4V3A"
      },
      "outputs": [],
      "source": [
        "imo_crosscheck = pd.read_csv(\"/content/drive/MyDrive/HNG INTERNSHIP/HNG 12/Stage 8/IMO_crosschecked.csv\")\n",
        "\n",
        "\n",
        "lagos_crosscheck = pd.read_csv(\"/content/drive/MyDrive/HNG INTERNSHIP/HNG 12/Stage 8/LAGOS_crosschecked.csv\")\n",
        "#imo_polling_unit = pd.read_csv(\"/content/drive/MyDrive/HNG INTERNSHIP/HNG 11/STAGE 1/Imo_polling_units.csv\")"
      ]
    },
    {
      "cell_type": "code",
      "source": [
        "lagos_crosscheck.columns"
      ],
      "metadata": {
        "id": "VMph49FXCHGc",
        "colab": {
          "base_uri": "https://localhost:8080/"
        },
        "outputId": "dd46f244-24d7-4302-d18d-8be1456b26e9"
      },
      "execution_count": null,
      "outputs": [
        {
          "output_type": "execute_result",
          "data": {
            "text/plain": [
              "Index(['State', 'LGA', 'Ward', 'PU-Code', 'PU-Name', 'Accredited_Voters',\n",
              "       'Registered_Voters', 'Results_Found', 'Transcription_Count',\n",
              "       'Result_Sheet_Stamped', 'Result_Sheet_Corrected',\n",
              "       'Result_Sheet_Invalid', 'Result_Sheet_Unclear', 'Result_Sheet_Unsigned',\n",
              "       'APC', 'LP', 'PDP', 'NNPP', 'Results_File'],\n",
              "      dtype='object')"
            ]
          },
          "metadata": {},
          "execution_count": 3
        }
      ]
    },
    {
      "cell_type": "code",
      "source": [
        "imo_crosscheck.head()"
      ],
      "metadata": {
        "id": "fvQxmPXW5fOT",
        "colab": {
          "base_uri": "https://localhost:8080/",
          "height": 504
        },
        "outputId": "99bcb091-63a4-4f87-d534-a3e4fdc88461"
      },
      "execution_count": null,
      "outputs": [
        {
          "output_type": "execute_result",
          "data": {
            "text/plain": [
              "  State          LGA       Ward       PU-Code                PU-Name  \\\n",
              "0   IMO  ABOH MBAISE  ENYIOGUGU  16-01-01-001  ALADINMA UMUELEM HALL   \n",
              "1   IMO  ABOH MBAISE  ENYIOGUGU  16-01-01-002           OKWUAKU HALL   \n",
              "2   IMO  ABOH MBAISE  ENYIOGUGU  16-01-01-003   UMUNKWO VILLAGE HALL   \n",
              "3   IMO  ABOH MBAISE  ENYIOGUGU  16-01-01-004             IBEKU HALL   \n",
              "4   IMO  ABOH MBAISE  ENYIOGUGU  16-01-01-006            EZIALA HALL   \n",
              "\n",
              "   Accredited_Voters  Registered_Voters  Results_Found  Transcription_Count  \\\n",
              "0                175                905           True                   -1   \n",
              "1                243                852           True                   -1   \n",
              "2                183                704           True                   -1   \n",
              "3                153                646           True                   -1   \n",
              "4                209                750           True                   -1   \n",
              "\n",
              "   Result_Sheet_Stamped  Result_Sheet_Corrected  Result_Sheet_Invalid  \\\n",
              "0                 False                   False                 False   \n",
              "1                 False                   False                 False   \n",
              "2                 False                   False                 False   \n",
              "3                 False                    True                 False   \n",
              "4                 False                   False                 False   \n",
              "\n",
              "   Result_Sheet_Unclear Result_Sheet_Unsigned  APC   LP  PDP  NNPP  \\\n",
              "0                 False               UNKNOWN    9   40  100     3   \n",
              "1                 False               UNKNOWN    3  230    9     0   \n",
              "2                 False               UNKNOWN    2  158   20     0   \n",
              "3                 False               UNKNOWN    4  112   22     0   \n",
              "4                 False               UNKNOWN   10  176   22     0   \n",
              "\n",
              "                                        Results_File  \n",
              "0  https://docs.inecelectionresults.net/elections...  \n",
              "1  https://docs.inecelectionresults.net/elections...  \n",
              "2  https://docs.inecelectionresults.net/elections...  \n",
              "3  https://docs.inecelectionresults.net/elections...  \n",
              "4  https://docs.inecelectionresults.net/elections...  "
            ],
            "text/html": [
              "\n",
              "  <div id=\"df-1027c63d-cafa-47e5-bdd0-0013d7da8667\" class=\"colab-df-container\">\n",
              "    <div>\n",
              "<style scoped>\n",
              "    .dataframe tbody tr th:only-of-type {\n",
              "        vertical-align: middle;\n",
              "    }\n",
              "\n",
              "    .dataframe tbody tr th {\n",
              "        vertical-align: top;\n",
              "    }\n",
              "\n",
              "    .dataframe thead th {\n",
              "        text-align: right;\n",
              "    }\n",
              "</style>\n",
              "<table border=\"1\" class=\"dataframe\">\n",
              "  <thead>\n",
              "    <tr style=\"text-align: right;\">\n",
              "      <th></th>\n",
              "      <th>State</th>\n",
              "      <th>LGA</th>\n",
              "      <th>Ward</th>\n",
              "      <th>PU-Code</th>\n",
              "      <th>PU-Name</th>\n",
              "      <th>Accredited_Voters</th>\n",
              "      <th>Registered_Voters</th>\n",
              "      <th>Results_Found</th>\n",
              "      <th>Transcription_Count</th>\n",
              "      <th>Result_Sheet_Stamped</th>\n",
              "      <th>Result_Sheet_Corrected</th>\n",
              "      <th>Result_Sheet_Invalid</th>\n",
              "      <th>Result_Sheet_Unclear</th>\n",
              "      <th>Result_Sheet_Unsigned</th>\n",
              "      <th>APC</th>\n",
              "      <th>LP</th>\n",
              "      <th>PDP</th>\n",
              "      <th>NNPP</th>\n",
              "      <th>Results_File</th>\n",
              "    </tr>\n",
              "  </thead>\n",
              "  <tbody>\n",
              "    <tr>\n",
              "      <th>0</th>\n",
              "      <td>IMO</td>\n",
              "      <td>ABOH MBAISE</td>\n",
              "      <td>ENYIOGUGU</td>\n",
              "      <td>16-01-01-001</td>\n",
              "      <td>ALADINMA UMUELEM HALL</td>\n",
              "      <td>175</td>\n",
              "      <td>905</td>\n",
              "      <td>True</td>\n",
              "      <td>-1</td>\n",
              "      <td>False</td>\n",
              "      <td>False</td>\n",
              "      <td>False</td>\n",
              "      <td>False</td>\n",
              "      <td>UNKNOWN</td>\n",
              "      <td>9</td>\n",
              "      <td>40</td>\n",
              "      <td>100</td>\n",
              "      <td>3</td>\n",
              "      <td>https://docs.inecelectionresults.net/elections...</td>\n",
              "    </tr>\n",
              "    <tr>\n",
              "      <th>1</th>\n",
              "      <td>IMO</td>\n",
              "      <td>ABOH MBAISE</td>\n",
              "      <td>ENYIOGUGU</td>\n",
              "      <td>16-01-01-002</td>\n",
              "      <td>OKWUAKU HALL</td>\n",
              "      <td>243</td>\n",
              "      <td>852</td>\n",
              "      <td>True</td>\n",
              "      <td>-1</td>\n",
              "      <td>False</td>\n",
              "      <td>False</td>\n",
              "      <td>False</td>\n",
              "      <td>False</td>\n",
              "      <td>UNKNOWN</td>\n",
              "      <td>3</td>\n",
              "      <td>230</td>\n",
              "      <td>9</td>\n",
              "      <td>0</td>\n",
              "      <td>https://docs.inecelectionresults.net/elections...</td>\n",
              "    </tr>\n",
              "    <tr>\n",
              "      <th>2</th>\n",
              "      <td>IMO</td>\n",
              "      <td>ABOH MBAISE</td>\n",
              "      <td>ENYIOGUGU</td>\n",
              "      <td>16-01-01-003</td>\n",
              "      <td>UMUNKWO VILLAGE HALL</td>\n",
              "      <td>183</td>\n",
              "      <td>704</td>\n",
              "      <td>True</td>\n",
              "      <td>-1</td>\n",
              "      <td>False</td>\n",
              "      <td>False</td>\n",
              "      <td>False</td>\n",
              "      <td>False</td>\n",
              "      <td>UNKNOWN</td>\n",
              "      <td>2</td>\n",
              "      <td>158</td>\n",
              "      <td>20</td>\n",
              "      <td>0</td>\n",
              "      <td>https://docs.inecelectionresults.net/elections...</td>\n",
              "    </tr>\n",
              "    <tr>\n",
              "      <th>3</th>\n",
              "      <td>IMO</td>\n",
              "      <td>ABOH MBAISE</td>\n",
              "      <td>ENYIOGUGU</td>\n",
              "      <td>16-01-01-004</td>\n",
              "      <td>IBEKU HALL</td>\n",
              "      <td>153</td>\n",
              "      <td>646</td>\n",
              "      <td>True</td>\n",
              "      <td>-1</td>\n",
              "      <td>False</td>\n",
              "      <td>True</td>\n",
              "      <td>False</td>\n",
              "      <td>False</td>\n",
              "      <td>UNKNOWN</td>\n",
              "      <td>4</td>\n",
              "      <td>112</td>\n",
              "      <td>22</td>\n",
              "      <td>0</td>\n",
              "      <td>https://docs.inecelectionresults.net/elections...</td>\n",
              "    </tr>\n",
              "    <tr>\n",
              "      <th>4</th>\n",
              "      <td>IMO</td>\n",
              "      <td>ABOH MBAISE</td>\n",
              "      <td>ENYIOGUGU</td>\n",
              "      <td>16-01-01-006</td>\n",
              "      <td>EZIALA HALL</td>\n",
              "      <td>209</td>\n",
              "      <td>750</td>\n",
              "      <td>True</td>\n",
              "      <td>-1</td>\n",
              "      <td>False</td>\n",
              "      <td>False</td>\n",
              "      <td>False</td>\n",
              "      <td>False</td>\n",
              "      <td>UNKNOWN</td>\n",
              "      <td>10</td>\n",
              "      <td>176</td>\n",
              "      <td>22</td>\n",
              "      <td>0</td>\n",
              "      <td>https://docs.inecelectionresults.net/elections...</td>\n",
              "    </tr>\n",
              "  </tbody>\n",
              "</table>\n",
              "</div>\n",
              "    <div class=\"colab-df-buttons\">\n",
              "\n",
              "  <div class=\"colab-df-container\">\n",
              "    <button class=\"colab-df-convert\" onclick=\"convertToInteractive('df-1027c63d-cafa-47e5-bdd0-0013d7da8667')\"\n",
              "            title=\"Convert this dataframe to an interactive table.\"\n",
              "            style=\"display:none;\">\n",
              "\n",
              "  <svg xmlns=\"http://www.w3.org/2000/svg\" height=\"24px\" viewBox=\"0 -960 960 960\">\n",
              "    <path d=\"M120-120v-720h720v720H120Zm60-500h600v-160H180v160Zm220 220h160v-160H400v160Zm0 220h160v-160H400v160ZM180-400h160v-160H180v160Zm440 0h160v-160H620v160ZM180-180h160v-160H180v160Zm440 0h160v-160H620v160Z\"/>\n",
              "  </svg>\n",
              "    </button>\n",
              "\n",
              "  <style>\n",
              "    .colab-df-container {\n",
              "      display:flex;\n",
              "      gap: 12px;\n",
              "    }\n",
              "\n",
              "    .colab-df-convert {\n",
              "      background-color: #E8F0FE;\n",
              "      border: none;\n",
              "      border-radius: 50%;\n",
              "      cursor: pointer;\n",
              "      display: none;\n",
              "      fill: #1967D2;\n",
              "      height: 32px;\n",
              "      padding: 0 0 0 0;\n",
              "      width: 32px;\n",
              "    }\n",
              "\n",
              "    .colab-df-convert:hover {\n",
              "      background-color: #E2EBFA;\n",
              "      box-shadow: 0px 1px 2px rgba(60, 64, 67, 0.3), 0px 1px 3px 1px rgba(60, 64, 67, 0.15);\n",
              "      fill: #174EA6;\n",
              "    }\n",
              "\n",
              "    .colab-df-buttons div {\n",
              "      margin-bottom: 4px;\n",
              "    }\n",
              "\n",
              "    [theme=dark] .colab-df-convert {\n",
              "      background-color: #3B4455;\n",
              "      fill: #D2E3FC;\n",
              "    }\n",
              "\n",
              "    [theme=dark] .colab-df-convert:hover {\n",
              "      background-color: #434B5C;\n",
              "      box-shadow: 0px 1px 3px 1px rgba(0, 0, 0, 0.15);\n",
              "      filter: drop-shadow(0px 1px 2px rgba(0, 0, 0, 0.3));\n",
              "      fill: #FFFFFF;\n",
              "    }\n",
              "  </style>\n",
              "\n",
              "    <script>\n",
              "      const buttonEl =\n",
              "        document.querySelector('#df-1027c63d-cafa-47e5-bdd0-0013d7da8667 button.colab-df-convert');\n",
              "      buttonEl.style.display =\n",
              "        google.colab.kernel.accessAllowed ? 'block' : 'none';\n",
              "\n",
              "      async function convertToInteractive(key) {\n",
              "        const element = document.querySelector('#df-1027c63d-cafa-47e5-bdd0-0013d7da8667');\n",
              "        const dataTable =\n",
              "          await google.colab.kernel.invokeFunction('convertToInteractive',\n",
              "                                                    [key], {});\n",
              "        if (!dataTable) return;\n",
              "\n",
              "        const docLinkHtml = 'Like what you see? Visit the ' +\n",
              "          '<a target=\"_blank\" href=https://colab.research.google.com/notebooks/data_table.ipynb>data table notebook</a>'\n",
              "          + ' to learn more about interactive tables.';\n",
              "        element.innerHTML = '';\n",
              "        dataTable['output_type'] = 'display_data';\n",
              "        await google.colab.output.renderOutput(dataTable, element);\n",
              "        const docLink = document.createElement('div');\n",
              "        docLink.innerHTML = docLinkHtml;\n",
              "        element.appendChild(docLink);\n",
              "      }\n",
              "    </script>\n",
              "  </div>\n",
              "\n",
              "\n",
              "<div id=\"df-0434c4f9-e094-495e-85cf-39c99288af5b\">\n",
              "  <button class=\"colab-df-quickchart\" onclick=\"quickchart('df-0434c4f9-e094-495e-85cf-39c99288af5b')\"\n",
              "            title=\"Suggest charts\"\n",
              "            style=\"display:none;\">\n",
              "\n",
              "<svg xmlns=\"http://www.w3.org/2000/svg\" height=\"24px\"viewBox=\"0 0 24 24\"\n",
              "     width=\"24px\">\n",
              "    <g>\n",
              "        <path d=\"M19 3H5c-1.1 0-2 .9-2 2v14c0 1.1.9 2 2 2h14c1.1 0 2-.9 2-2V5c0-1.1-.9-2-2-2zM9 17H7v-7h2v7zm4 0h-2V7h2v10zm4 0h-2v-4h2v4z\"/>\n",
              "    </g>\n",
              "</svg>\n",
              "  </button>\n",
              "\n",
              "<style>\n",
              "  .colab-df-quickchart {\n",
              "      --bg-color: #E8F0FE;\n",
              "      --fill-color: #1967D2;\n",
              "      --hover-bg-color: #E2EBFA;\n",
              "      --hover-fill-color: #174EA6;\n",
              "      --disabled-fill-color: #AAA;\n",
              "      --disabled-bg-color: #DDD;\n",
              "  }\n",
              "\n",
              "  [theme=dark] .colab-df-quickchart {\n",
              "      --bg-color: #3B4455;\n",
              "      --fill-color: #D2E3FC;\n",
              "      --hover-bg-color: #434B5C;\n",
              "      --hover-fill-color: #FFFFFF;\n",
              "      --disabled-bg-color: #3B4455;\n",
              "      --disabled-fill-color: #666;\n",
              "  }\n",
              "\n",
              "  .colab-df-quickchart {\n",
              "    background-color: var(--bg-color);\n",
              "    border: none;\n",
              "    border-radius: 50%;\n",
              "    cursor: pointer;\n",
              "    display: none;\n",
              "    fill: var(--fill-color);\n",
              "    height: 32px;\n",
              "    padding: 0;\n",
              "    width: 32px;\n",
              "  }\n",
              "\n",
              "  .colab-df-quickchart:hover {\n",
              "    background-color: var(--hover-bg-color);\n",
              "    box-shadow: 0 1px 2px rgba(60, 64, 67, 0.3), 0 1px 3px 1px rgba(60, 64, 67, 0.15);\n",
              "    fill: var(--button-hover-fill-color);\n",
              "  }\n",
              "\n",
              "  .colab-df-quickchart-complete:disabled,\n",
              "  .colab-df-quickchart-complete:disabled:hover {\n",
              "    background-color: var(--disabled-bg-color);\n",
              "    fill: var(--disabled-fill-color);\n",
              "    box-shadow: none;\n",
              "  }\n",
              "\n",
              "  .colab-df-spinner {\n",
              "    border: 2px solid var(--fill-color);\n",
              "    border-color: transparent;\n",
              "    border-bottom-color: var(--fill-color);\n",
              "    animation:\n",
              "      spin 1s steps(1) infinite;\n",
              "  }\n",
              "\n",
              "  @keyframes spin {\n",
              "    0% {\n",
              "      border-color: transparent;\n",
              "      border-bottom-color: var(--fill-color);\n",
              "      border-left-color: var(--fill-color);\n",
              "    }\n",
              "    20% {\n",
              "      border-color: transparent;\n",
              "      border-left-color: var(--fill-color);\n",
              "      border-top-color: var(--fill-color);\n",
              "    }\n",
              "    30% {\n",
              "      border-color: transparent;\n",
              "      border-left-color: var(--fill-color);\n",
              "      border-top-color: var(--fill-color);\n",
              "      border-right-color: var(--fill-color);\n",
              "    }\n",
              "    40% {\n",
              "      border-color: transparent;\n",
              "      border-right-color: var(--fill-color);\n",
              "      border-top-color: var(--fill-color);\n",
              "    }\n",
              "    60% {\n",
              "      border-color: transparent;\n",
              "      border-right-color: var(--fill-color);\n",
              "    }\n",
              "    80% {\n",
              "      border-color: transparent;\n",
              "      border-right-color: var(--fill-color);\n",
              "      border-bottom-color: var(--fill-color);\n",
              "    }\n",
              "    90% {\n",
              "      border-color: transparent;\n",
              "      border-bottom-color: var(--fill-color);\n",
              "    }\n",
              "  }\n",
              "</style>\n",
              "\n",
              "  <script>\n",
              "    async function quickchart(key) {\n",
              "      const quickchartButtonEl =\n",
              "        document.querySelector('#' + key + ' button');\n",
              "      quickchartButtonEl.disabled = true;  // To prevent multiple clicks.\n",
              "      quickchartButtonEl.classList.add('colab-df-spinner');\n",
              "      try {\n",
              "        const charts = await google.colab.kernel.invokeFunction(\n",
              "            'suggestCharts', [key], {});\n",
              "      } catch (error) {\n",
              "        console.error('Error during call to suggestCharts:', error);\n",
              "      }\n",
              "      quickchartButtonEl.classList.remove('colab-df-spinner');\n",
              "      quickchartButtonEl.classList.add('colab-df-quickchart-complete');\n",
              "    }\n",
              "    (() => {\n",
              "      let quickchartButtonEl =\n",
              "        document.querySelector('#df-0434c4f9-e094-495e-85cf-39c99288af5b button');\n",
              "      quickchartButtonEl.style.display =\n",
              "        google.colab.kernel.accessAllowed ? 'block' : 'none';\n",
              "    })();\n",
              "  </script>\n",
              "</div>\n",
              "\n",
              "    </div>\n",
              "  </div>\n"
            ],
            "application/vnd.google.colaboratory.intrinsic+json": {
              "type": "dataframe",
              "variable_name": "imo_crosscheck",
              "summary": "{\n  \"name\": \"imo_crosscheck\",\n  \"rows\": 2812,\n  \"fields\": [\n    {\n      \"column\": \"State\",\n      \"properties\": {\n        \"dtype\": \"category\",\n        \"num_unique_values\": 1,\n        \"samples\": [\n          \"IMO\"\n        ],\n        \"semantic_type\": \"\",\n        \"description\": \"\"\n      }\n    },\n    {\n      \"column\": \"LGA\",\n      \"properties\": {\n        \"dtype\": \"category\",\n        \"num_unique_values\": 27,\n        \"samples\": [\n          \"ISIALA MBANO\"\n        ],\n        \"semantic_type\": \"\",\n        \"description\": \"\"\n      }\n    },\n    {\n      \"column\": \"Ward\",\n      \"properties\": {\n        \"dtype\": \"category\",\n        \"num_unique_values\": 258,\n        \"samples\": [\n          \"OGBOKO I\"\n        ],\n        \"semantic_type\": \"\",\n        \"description\": \"\"\n      }\n    },\n    {\n      \"column\": \"PU-Code\",\n      \"properties\": {\n        \"dtype\": \"string\",\n        \"num_unique_values\": 2812,\n        \"samples\": [\n          \"16-05-04-001\"\n        ],\n        \"semantic_type\": \"\",\n        \"description\": \"\"\n      }\n    },\n    {\n      \"column\": \"PU-Name\",\n      \"properties\": {\n        \"dtype\": \"string\",\n        \"num_unique_values\": 2634,\n        \"samples\": [\n          \"PRI. SCH. UPE/UMUNAM\"\n        ],\n        \"semantic_type\": \"\",\n        \"description\": \"\"\n      }\n    },\n    {\n      \"column\": \"Accredited_Voters\",\n      \"properties\": {\n        \"dtype\": \"number\",\n        \"std\": 72,\n        \"min\": 0,\n        \"max\": 588,\n        \"num_unique_values\": 292,\n        \"samples\": [\n          137\n        ],\n        \"semantic_type\": \"\",\n        \"description\": \"\"\n      }\n    },\n    {\n      \"column\": \"Registered_Voters\",\n      \"properties\": {\n        \"dtype\": \"number\",\n        \"std\": 279,\n        \"min\": 0,\n        \"max\": 2248,\n        \"num_unique_values\": 923,\n        \"samples\": [\n          375\n        ],\n        \"semantic_type\": \"\",\n        \"description\": \"\"\n      }\n    },\n    {\n      \"column\": \"Results_Found\",\n      \"properties\": {\n        \"dtype\": \"boolean\",\n        \"num_unique_values\": 1,\n        \"samples\": [\n          true\n        ],\n        \"semantic_type\": \"\",\n        \"description\": \"\"\n      }\n    },\n    {\n      \"column\": \"Transcription_Count\",\n      \"properties\": {\n        \"dtype\": \"number\",\n        \"std\": 0,\n        \"min\": -1,\n        \"max\": -1,\n        \"num_unique_values\": 1,\n        \"samples\": [\n          -1\n        ],\n        \"semantic_type\": \"\",\n        \"description\": \"\"\n      }\n    },\n    {\n      \"column\": \"Result_Sheet_Stamped\",\n      \"properties\": {\n        \"dtype\": \"boolean\",\n        \"num_unique_values\": 2,\n        \"samples\": [\n          true\n        ],\n        \"semantic_type\": \"\",\n        \"description\": \"\"\n      }\n    },\n    {\n      \"column\": \"Result_Sheet_Corrected\",\n      \"properties\": {\n        \"dtype\": \"boolean\",\n        \"num_unique_values\": 2,\n        \"samples\": [\n          true\n        ],\n        \"semantic_type\": \"\",\n        \"description\": \"\"\n      }\n    },\n    {\n      \"column\": \"Result_Sheet_Invalid\",\n      \"properties\": {\n        \"dtype\": \"boolean\",\n        \"num_unique_values\": 2,\n        \"samples\": [\n          true\n        ],\n        \"semantic_type\": \"\",\n        \"description\": \"\"\n      }\n    },\n    {\n      \"column\": \"Result_Sheet_Unclear\",\n      \"properties\": {\n        \"dtype\": \"boolean\",\n        \"num_unique_values\": 1,\n        \"samples\": [\n          false\n        ],\n        \"semantic_type\": \"\",\n        \"description\": \"\"\n      }\n    },\n    {\n      \"column\": \"Result_Sheet_Unsigned\",\n      \"properties\": {\n        \"dtype\": \"category\",\n        \"num_unique_values\": 1,\n        \"samples\": [\n          \"UNKNOWN\"\n        ],\n        \"semantic_type\": \"\",\n        \"description\": \"\"\n      }\n    },\n    {\n      \"column\": \"APC\",\n      \"properties\": {\n        \"dtype\": \"number\",\n        \"std\": 36,\n        \"min\": 0,\n        \"max\": 600,\n        \"num_unique_values\": 123,\n        \"samples\": [\n          73\n        ],\n        \"semantic_type\": \"\",\n        \"description\": \"\"\n      }\n    },\n    {\n      \"column\": \"LP\",\n      \"properties\": {\n        \"dtype\": \"number\",\n        \"std\": 66,\n        \"min\": 0,\n        \"max\": 542,\n        \"num_unique_values\": 281,\n        \"samples\": [\n          73\n        ],\n        \"semantic_type\": \"\",\n        \"description\": \"\"\n      }\n    },\n    {\n      \"column\": \"PDP\",\n      \"properties\": {\n        \"dtype\": \"number\",\n        \"std\": 15,\n        \"min\": 0,\n        \"max\": 480,\n        \"num_unique_values\": 73,\n        \"samples\": [\n          11\n        ],\n        \"semantic_type\": \"\",\n        \"description\": \"\"\n      }\n    },\n    {\n      \"column\": \"NNPP\",\n      \"properties\": {\n        \"dtype\": \"number\",\n        \"std\": 1,\n        \"min\": 0,\n        \"max\": 31,\n        \"num_unique_values\": 11,\n        \"samples\": [\n          4\n        ],\n        \"semantic_type\": \"\",\n        \"description\": \"\"\n      }\n    },\n    {\n      \"column\": \"Results_File\",\n      \"properties\": {\n        \"dtype\": \"string\",\n        \"num_unique_values\": 2702,\n        \"samples\": [\n          \"https://docs.inecelectionresults.net/elections_prod/1292/state/1/lga/3405/ward/21055/pu/46072/46072-1677758865.pdf\"\n        ],\n        \"semantic_type\": \"\",\n        \"description\": \"\"\n      }\n    }\n  ]\n}"
            }
          },
          "metadata": {},
          "execution_count": 4
        }
      ]
    },
    {
      "cell_type": "code",
      "source": [
        "imo_crosscheck[\"Location\"] = imo_crosscheck[\"PU-Name\"] + \", \" + imo_crosscheck[\"Ward\"] + \", \" + imo_crosscheck[\"LGA\"]  + \", \" + imo_crosscheck[\"State\"]   + \", \" + \"Nigeria\"\n"
      ],
      "metadata": {
        "id": "8pK0UHe-6M3A"
      },
      "execution_count": null,
      "outputs": []
    },
    {
      "cell_type": "code",
      "source": [
        "lagos_crosscheck[\"Location\"] = lagos_crosscheck[\"PU-Name\"] + \", \" + lagos_crosscheck[\"Ward\"] + \", \" + lagos_crosscheck[\"LGA\"]  + \", \" + lagos_crosscheck[\"State\"]   + \", \" + \"Nigeria\"\n"
      ],
      "metadata": {
        "id": "3Q0Ukp9OhPGM"
      },
      "execution_count": null,
      "outputs": []
    },
    {
      "cell_type": "code",
      "source": [
        "def service_geocode(g_locator, address):\n",
        "    location = g_locator.geocode(address)\n",
        "    if location!=None:\n",
        "      return location.latitude, location.longitude\n",
        "    else:\n",
        "      return np.NaN"
      ],
      "metadata": {
        "id": "dcvap5xXswes"
      },
      "execution_count": null,
      "outputs": []
    },
    {
      "cell_type": "code",
      "source": [
        "imo_crosscheck.shape"
      ],
      "metadata": {
        "colab": {
          "base_uri": "https://localhost:8080/"
        },
        "id": "qamYAicAswjr",
        "outputId": "a961f791-b92b-4acf-b0e5-90abb264dead"
      },
      "execution_count": null,
      "outputs": [
        {
          "output_type": "execute_result",
          "data": {
            "text/plain": [
              "(2812, 20)"
            ]
          },
          "metadata": {},
          "execution_count": 8
        }
      ]
    },
    {
      "cell_type": "code",
      "source": [],
      "metadata": {
        "id": "T3hotre8swnr"
      },
      "execution_count": null,
      "outputs": []
    },
    {
      "cell_type": "code",
      "source": [
        "imo_crosscheck[\"Lat_Long\"] = imo_crosscheck[\"Location\"].apply(lambda x: service_geocode(geolocator_arcgis, x))"
      ],
      "metadata": {
        "id": "PJs0ZDoKneB_"
      },
      "execution_count": null,
      "outputs": []
    },
    {
      "cell_type": "code",
      "source": [
        "imo_crosscheck[\"Lat_Long\"].tail()"
      ],
      "metadata": {
        "id": "4y1pGPICneHp"
      },
      "execution_count": null,
      "outputs": []
    },
    {
      "cell_type": "code",
      "source": [],
      "metadata": {
        "id": "QGZfm7a7ciTO"
      },
      "execution_count": null,
      "outputs": []
    },
    {
      "cell_type": "code",
      "source": [
        "imo_crosscheck[\"Latitude\"] = imo_crosscheck[\"Location\"].apply(lambda x: geolocator_arcgis.geocode(x).latitude)\n",
        "imo_crosscheck[\"Longitude\"] = imo_crosscheck[\"Location\"].apply(lambda x: geolocator_arcgis.geocode(x).longitude)\n",
        "\n"
      ],
      "metadata": {
        "id": "aePdIIVjciXM"
      },
      "execution_count": null,
      "outputs": []
    },
    {
      "source": [
        "# save imo_crosscheck yo csv\n",
        "\n",
        "imo_crosscheck.to_csv('imo_crosscheck_with_coordinates.csv', index=False)\n"
      ],
      "cell_type": "code",
      "metadata": {
        "id": "FCH_IsC8G0oo"
      },
      "execution_count": null,
      "outputs": []
    },
    {
      "cell_type": "code",
      "source": [
        "# save imo_crosscheck yo csv\n",
        "\n",
        "imo_crosscheck.to_csv('imo_crosscheck_with_coordinates.csv', index=False)\n"
      ],
      "metadata": {
        "id": "qGJJTTfhIKlD"
      },
      "execution_count": null,
      "outputs": []
    },
    {
      "cell_type": "code",
      "source": [
        "# Reading file with coordinates\n",
        "\n",
        "imo_crosscheck_coordinates = pd.read_csv(\"/content/drive/MyDrive/HNG INTERNSHIP/HNG 12/Stage 8/imo_crosscheck_with_coordinates.csv\")"
      ],
      "metadata": {
        "id": "r37fWDruQNBH"
      },
      "execution_count": null,
      "outputs": []
    },
    {
      "cell_type": "code",
      "source": [],
      "metadata": {
        "id": "pjTjyauiQNFT"
      },
      "execution_count": null,
      "outputs": []
    },
    {
      "source": [
        "##Checking missing data\n",
        "\n",
        "imo_crosscheck_coordinates.isnull().sum()"
      ],
      "cell_type": "code",
      "metadata": {
        "id": "wtfW4Io2Gy9J"
      },
      "execution_count": null,
      "outputs": []
    },
    {
      "cell_type": "code",
      "source": [
        "# drop columns\n",
        "\n",
        "# Drop columns you don't need\n",
        "columns_to_drop = ['Results_Found', 'Transcription_Count',\n",
        "       'Result_Sheet_Stamped', 'Result_Sheet_Corrected',\n",
        "       'Result_Sheet_Invalid', 'Result_Sheet_Unclear', 'Result_Sheet_Unsigned','Results_File']\n",
        "\n",
        "imo_crosscheck_coordinates = imo_crosscheck_coordinates.drop(columns=columns_to_drop)\n",
        "\n"
      ],
      "metadata": {
        "id": "IYNx_XcTbZaK"
      },
      "execution_count": null,
      "outputs": []
    },
    {
      "cell_type": "code",
      "source": [
        "imo_crosscheck_coordinates.columns"
      ],
      "metadata": {
        "colab": {
          "base_uri": "https://localhost:8080/"
        },
        "id": "9h3_kE4PA1uo",
        "outputId": "e16caa2f-1efc-497a-9547-abcce8bc4c59"
      },
      "execution_count": null,
      "outputs": [
        {
          "output_type": "execute_result",
          "data": {
            "text/plain": [
              "Index(['State', 'LGA', 'Ward', 'PU-Code', 'PU-Name', 'Accredited_Voters',\n",
              "       'Registered_Voters', 'APC', 'LP', 'PDP', 'NNPP', 'Location', 'Lat_Long',\n",
              "       'Latitude', 'Longitude'],\n",
              "      dtype='object')"
            ]
          },
          "metadata": {},
          "execution_count": 8
        }
      ]
    },
    {
      "cell_type": "code",
      "source": [
        "data = imo_crosscheck_coordinates.copy()"
      ],
      "metadata": {
        "id": "pX4jiN6DA12-"
      },
      "execution_count": null,
      "outputs": []
    },
    {
      "cell_type": "markdown",
      "source": [
        "## Advanced Neighbor Identification"
      ],
      "metadata": {
        "id": "FiReHE55bQPd"
      }
    },
    {
      "cell_type": "markdown",
      "source": [
        "### Geospatial Clustering (DBSCAN or HDBSCAN)"
      ],
      "metadata": {
        "id": "gBOnxCTHbU7Y"
      }
    },
    {
      "cell_type": "code",
      "source": [
        "from sklearn.cluster import DBSCAN\n",
        "import numpy as np\n",
        "from geopy.distance import geodesic\n",
        "\n",
        "# Calculate distance matrix between polling units using latitude and longitude\n",
        "def calculate_distance_matrix(df):\n",
        "    coords = df[['Latitude', 'Longitude']].values\n",
        "    distance_matrix = np.array([[geodesic(coord1, coord2).meters for coord1 in coords] for coord2 in coords])\n",
        "    return distance_matrix\n",
        "\n",
        "# DBSCAN Clustering\n",
        "def perform_dbscan(distance_matrix, eps=1000, min_samples=5):  # eps=1000 for 1km proximity\n",
        "    db = DBSCAN(metric=\"precomputed\", eps=eps, min_samples=min_samples)\n",
        "    clusters = db.fit_predict(distance_matrix)\n",
        "    return clusters\n"
      ],
      "metadata": {
        "id": "nZAlw62sA2Gi"
      },
      "execution_count": null,
      "outputs": []
    },
    {
      "cell_type": "code",
      "source": [
        "\n",
        "# Create distance matrix and perform DBSCAN clustering\n",
        "distance_matrix = calculate_distance_matrix(data)\n",
        "data['cluster'] = perform_dbscan(distance_matrix, eps=1000, min_samples=3)\n",
        "\n",
        "# Inspect clusters\n",
        "data.head()\n"
      ],
      "metadata": {
        "colab": {
          "base_uri": "https://localhost:8080/",
          "height": 660
        },
        "id": "Jf6J0RhmcIxR",
        "outputId": "ba844625-7f7b-4997-fa25-87e3a0b99018"
      },
      "execution_count": null,
      "outputs": [
        {
          "output_type": "execute_result",
          "data": {
            "text/plain": [
              "  State          LGA       Ward       PU-Code                PU-Name  \\\n",
              "0   IMO  ABOH MBAISE  ENYIOGUGU  16-01-01-001  ALADINMA UMUELEM HALL   \n",
              "1   IMO  ABOH MBAISE  ENYIOGUGU  16-01-01-002           OKWUAKU HALL   \n",
              "2   IMO  ABOH MBAISE  ENYIOGUGU  16-01-01-003   UMUNKWO VILLAGE HALL   \n",
              "3   IMO  ABOH MBAISE  ENYIOGUGU  16-01-01-004             IBEKU HALL   \n",
              "4   IMO  ABOH MBAISE  ENYIOGUGU  16-01-01-006            EZIALA HALL   \n",
              "\n",
              "   Accredited_Voters  Registered_Voters  APC   LP  PDP  NNPP  \\\n",
              "0                175                905    9   40  100     3   \n",
              "1                243                852    3  230    9     0   \n",
              "2                183                704    2  158   20     0   \n",
              "3                153                646    4  112   22     0   \n",
              "4                209                750   10  176   22     0   \n",
              "\n",
              "                                            Location  \\\n",
              "0  ALADINMA UMUELEM HALL, ENYIOGUGU, ABOH MBAISE,...   \n",
              "1  OKWUAKU HALL, ENYIOGUGU, ABOH MBAISE, IMO, Nig...   \n",
              "2  UMUNKWO VILLAGE HALL, ENYIOGUGU, ABOH MBAISE, ...   \n",
              "3   IBEKU HALL, ENYIOGUGU, ABOH MBAISE, IMO, Nigeria   \n",
              "4  EZIALA HALL, ENYIOGUGU, ABOH MBAISE, IMO, Nigeria   \n",
              "\n",
              "                           Lat_Long  Latitude  Longitude  cluster  \n",
              "0  (5.420535978049, 7.240631284034)  5.420536   7.240631        0  \n",
              "1                (5.46475, 7.19576)  5.464750   7.195760        1  \n",
              "2  (5.420535978049, 7.240631284034)  5.420536   7.240631        0  \n",
              "3                (5.46162, 7.25969)  5.461620   7.259690        2  \n",
              "4                (5.46475, 7.19576)  5.464750   7.195760        1  "
            ],
            "text/html": [
              "\n",
              "  <div id=\"df-c398e37e-d3a1-4f4e-93f4-fb107eb8bb98\" class=\"colab-df-container\">\n",
              "    <div>\n",
              "<style scoped>\n",
              "    .dataframe tbody tr th:only-of-type {\n",
              "        vertical-align: middle;\n",
              "    }\n",
              "\n",
              "    .dataframe tbody tr th {\n",
              "        vertical-align: top;\n",
              "    }\n",
              "\n",
              "    .dataframe thead th {\n",
              "        text-align: right;\n",
              "    }\n",
              "</style>\n",
              "<table border=\"1\" class=\"dataframe\">\n",
              "  <thead>\n",
              "    <tr style=\"text-align: right;\">\n",
              "      <th></th>\n",
              "      <th>State</th>\n",
              "      <th>LGA</th>\n",
              "      <th>Ward</th>\n",
              "      <th>PU-Code</th>\n",
              "      <th>PU-Name</th>\n",
              "      <th>Accredited_Voters</th>\n",
              "      <th>Registered_Voters</th>\n",
              "      <th>APC</th>\n",
              "      <th>LP</th>\n",
              "      <th>PDP</th>\n",
              "      <th>NNPP</th>\n",
              "      <th>Location</th>\n",
              "      <th>Lat_Long</th>\n",
              "      <th>Latitude</th>\n",
              "      <th>Longitude</th>\n",
              "      <th>cluster</th>\n",
              "    </tr>\n",
              "  </thead>\n",
              "  <tbody>\n",
              "    <tr>\n",
              "      <th>0</th>\n",
              "      <td>IMO</td>\n",
              "      <td>ABOH MBAISE</td>\n",
              "      <td>ENYIOGUGU</td>\n",
              "      <td>16-01-01-001</td>\n",
              "      <td>ALADINMA UMUELEM HALL</td>\n",
              "      <td>175</td>\n",
              "      <td>905</td>\n",
              "      <td>9</td>\n",
              "      <td>40</td>\n",
              "      <td>100</td>\n",
              "      <td>3</td>\n",
              "      <td>ALADINMA UMUELEM HALL, ENYIOGUGU, ABOH MBAISE,...</td>\n",
              "      <td>(5.420535978049, 7.240631284034)</td>\n",
              "      <td>5.420536</td>\n",
              "      <td>7.240631</td>\n",
              "      <td>0</td>\n",
              "    </tr>\n",
              "    <tr>\n",
              "      <th>1</th>\n",
              "      <td>IMO</td>\n",
              "      <td>ABOH MBAISE</td>\n",
              "      <td>ENYIOGUGU</td>\n",
              "      <td>16-01-01-002</td>\n",
              "      <td>OKWUAKU HALL</td>\n",
              "      <td>243</td>\n",
              "      <td>852</td>\n",
              "      <td>3</td>\n",
              "      <td>230</td>\n",
              "      <td>9</td>\n",
              "      <td>0</td>\n",
              "      <td>OKWUAKU HALL, ENYIOGUGU, ABOH MBAISE, IMO, Nig...</td>\n",
              "      <td>(5.46475, 7.19576)</td>\n",
              "      <td>5.464750</td>\n",
              "      <td>7.195760</td>\n",
              "      <td>1</td>\n",
              "    </tr>\n",
              "    <tr>\n",
              "      <th>2</th>\n",
              "      <td>IMO</td>\n",
              "      <td>ABOH MBAISE</td>\n",
              "      <td>ENYIOGUGU</td>\n",
              "      <td>16-01-01-003</td>\n",
              "      <td>UMUNKWO VILLAGE HALL</td>\n",
              "      <td>183</td>\n",
              "      <td>704</td>\n",
              "      <td>2</td>\n",
              "      <td>158</td>\n",
              "      <td>20</td>\n",
              "      <td>0</td>\n",
              "      <td>UMUNKWO VILLAGE HALL, ENYIOGUGU, ABOH MBAISE, ...</td>\n",
              "      <td>(5.420535978049, 7.240631284034)</td>\n",
              "      <td>5.420536</td>\n",
              "      <td>7.240631</td>\n",
              "      <td>0</td>\n",
              "    </tr>\n",
              "    <tr>\n",
              "      <th>3</th>\n",
              "      <td>IMO</td>\n",
              "      <td>ABOH MBAISE</td>\n",
              "      <td>ENYIOGUGU</td>\n",
              "      <td>16-01-01-004</td>\n",
              "      <td>IBEKU HALL</td>\n",
              "      <td>153</td>\n",
              "      <td>646</td>\n",
              "      <td>4</td>\n",
              "      <td>112</td>\n",
              "      <td>22</td>\n",
              "      <td>0</td>\n",
              "      <td>IBEKU HALL, ENYIOGUGU, ABOH MBAISE, IMO, Nigeria</td>\n",
              "      <td>(5.46162, 7.25969)</td>\n",
              "      <td>5.461620</td>\n",
              "      <td>7.259690</td>\n",
              "      <td>2</td>\n",
              "    </tr>\n",
              "    <tr>\n",
              "      <th>4</th>\n",
              "      <td>IMO</td>\n",
              "      <td>ABOH MBAISE</td>\n",
              "      <td>ENYIOGUGU</td>\n",
              "      <td>16-01-01-006</td>\n",
              "      <td>EZIALA HALL</td>\n",
              "      <td>209</td>\n",
              "      <td>750</td>\n",
              "      <td>10</td>\n",
              "      <td>176</td>\n",
              "      <td>22</td>\n",
              "      <td>0</td>\n",
              "      <td>EZIALA HALL, ENYIOGUGU, ABOH MBAISE, IMO, Nigeria</td>\n",
              "      <td>(5.46475, 7.19576)</td>\n",
              "      <td>5.464750</td>\n",
              "      <td>7.195760</td>\n",
              "      <td>1</td>\n",
              "    </tr>\n",
              "  </tbody>\n",
              "</table>\n",
              "</div>\n",
              "    <div class=\"colab-df-buttons\">\n",
              "\n",
              "  <div class=\"colab-df-container\">\n",
              "    <button class=\"colab-df-convert\" onclick=\"convertToInteractive('df-c398e37e-d3a1-4f4e-93f4-fb107eb8bb98')\"\n",
              "            title=\"Convert this dataframe to an interactive table.\"\n",
              "            style=\"display:none;\">\n",
              "\n",
              "  <svg xmlns=\"http://www.w3.org/2000/svg\" height=\"24px\" viewBox=\"0 -960 960 960\">\n",
              "    <path d=\"M120-120v-720h720v720H120Zm60-500h600v-160H180v160Zm220 220h160v-160H400v160Zm0 220h160v-160H400v160ZM180-400h160v-160H180v160Zm440 0h160v-160H620v160ZM180-180h160v-160H180v160Zm440 0h160v-160H620v160Z\"/>\n",
              "  </svg>\n",
              "    </button>\n",
              "\n",
              "  <style>\n",
              "    .colab-df-container {\n",
              "      display:flex;\n",
              "      gap: 12px;\n",
              "    }\n",
              "\n",
              "    .colab-df-convert {\n",
              "      background-color: #E8F0FE;\n",
              "      border: none;\n",
              "      border-radius: 50%;\n",
              "      cursor: pointer;\n",
              "      display: none;\n",
              "      fill: #1967D2;\n",
              "      height: 32px;\n",
              "      padding: 0 0 0 0;\n",
              "      width: 32px;\n",
              "    }\n",
              "\n",
              "    .colab-df-convert:hover {\n",
              "      background-color: #E2EBFA;\n",
              "      box-shadow: 0px 1px 2px rgba(60, 64, 67, 0.3), 0px 1px 3px 1px rgba(60, 64, 67, 0.15);\n",
              "      fill: #174EA6;\n",
              "    }\n",
              "\n",
              "    .colab-df-buttons div {\n",
              "      margin-bottom: 4px;\n",
              "    }\n",
              "\n",
              "    [theme=dark] .colab-df-convert {\n",
              "      background-color: #3B4455;\n",
              "      fill: #D2E3FC;\n",
              "    }\n",
              "\n",
              "    [theme=dark] .colab-df-convert:hover {\n",
              "      background-color: #434B5C;\n",
              "      box-shadow: 0px 1px 3px 1px rgba(0, 0, 0, 0.15);\n",
              "      filter: drop-shadow(0px 1px 2px rgba(0, 0, 0, 0.3));\n",
              "      fill: #FFFFFF;\n",
              "    }\n",
              "  </style>\n",
              "\n",
              "    <script>\n",
              "      const buttonEl =\n",
              "        document.querySelector('#df-c398e37e-d3a1-4f4e-93f4-fb107eb8bb98 button.colab-df-convert');\n",
              "      buttonEl.style.display =\n",
              "        google.colab.kernel.accessAllowed ? 'block' : 'none';\n",
              "\n",
              "      async function convertToInteractive(key) {\n",
              "        const element = document.querySelector('#df-c398e37e-d3a1-4f4e-93f4-fb107eb8bb98');\n",
              "        const dataTable =\n",
              "          await google.colab.kernel.invokeFunction('convertToInteractive',\n",
              "                                                    [key], {});\n",
              "        if (!dataTable) return;\n",
              "\n",
              "        const docLinkHtml = 'Like what you see? Visit the ' +\n",
              "          '<a target=\"_blank\" href=https://colab.research.google.com/notebooks/data_table.ipynb>data table notebook</a>'\n",
              "          + ' to learn more about interactive tables.';\n",
              "        element.innerHTML = '';\n",
              "        dataTable['output_type'] = 'display_data';\n",
              "        await google.colab.output.renderOutput(dataTable, element);\n",
              "        const docLink = document.createElement('div');\n",
              "        docLink.innerHTML = docLinkHtml;\n",
              "        element.appendChild(docLink);\n",
              "      }\n",
              "    </script>\n",
              "  </div>\n",
              "\n",
              "\n",
              "<div id=\"df-71628628-9aeb-4049-bac3-33a30c6dad14\">\n",
              "  <button class=\"colab-df-quickchart\" onclick=\"quickchart('df-71628628-9aeb-4049-bac3-33a30c6dad14')\"\n",
              "            title=\"Suggest charts\"\n",
              "            style=\"display:none;\">\n",
              "\n",
              "<svg xmlns=\"http://www.w3.org/2000/svg\" height=\"24px\"viewBox=\"0 0 24 24\"\n",
              "     width=\"24px\">\n",
              "    <g>\n",
              "        <path d=\"M19 3H5c-1.1 0-2 .9-2 2v14c0 1.1.9 2 2 2h14c1.1 0 2-.9 2-2V5c0-1.1-.9-2-2-2zM9 17H7v-7h2v7zm4 0h-2V7h2v10zm4 0h-2v-4h2v4z\"/>\n",
              "    </g>\n",
              "</svg>\n",
              "  </button>\n",
              "\n",
              "<style>\n",
              "  .colab-df-quickchart {\n",
              "      --bg-color: #E8F0FE;\n",
              "      --fill-color: #1967D2;\n",
              "      --hover-bg-color: #E2EBFA;\n",
              "      --hover-fill-color: #174EA6;\n",
              "      --disabled-fill-color: #AAA;\n",
              "      --disabled-bg-color: #DDD;\n",
              "  }\n",
              "\n",
              "  [theme=dark] .colab-df-quickchart {\n",
              "      --bg-color: #3B4455;\n",
              "      --fill-color: #D2E3FC;\n",
              "      --hover-bg-color: #434B5C;\n",
              "      --hover-fill-color: #FFFFFF;\n",
              "      --disabled-bg-color: #3B4455;\n",
              "      --disabled-fill-color: #666;\n",
              "  }\n",
              "\n",
              "  .colab-df-quickchart {\n",
              "    background-color: var(--bg-color);\n",
              "    border: none;\n",
              "    border-radius: 50%;\n",
              "    cursor: pointer;\n",
              "    display: none;\n",
              "    fill: var(--fill-color);\n",
              "    height: 32px;\n",
              "    padding: 0;\n",
              "    width: 32px;\n",
              "  }\n",
              "\n",
              "  .colab-df-quickchart:hover {\n",
              "    background-color: var(--hover-bg-color);\n",
              "    box-shadow: 0 1px 2px rgba(60, 64, 67, 0.3), 0 1px 3px 1px rgba(60, 64, 67, 0.15);\n",
              "    fill: var(--button-hover-fill-color);\n",
              "  }\n",
              "\n",
              "  .colab-df-quickchart-complete:disabled,\n",
              "  .colab-df-quickchart-complete:disabled:hover {\n",
              "    background-color: var(--disabled-bg-color);\n",
              "    fill: var(--disabled-fill-color);\n",
              "    box-shadow: none;\n",
              "  }\n",
              "\n",
              "  .colab-df-spinner {\n",
              "    border: 2px solid var(--fill-color);\n",
              "    border-color: transparent;\n",
              "    border-bottom-color: var(--fill-color);\n",
              "    animation:\n",
              "      spin 1s steps(1) infinite;\n",
              "  }\n",
              "\n",
              "  @keyframes spin {\n",
              "    0% {\n",
              "      border-color: transparent;\n",
              "      border-bottom-color: var(--fill-color);\n",
              "      border-left-color: var(--fill-color);\n",
              "    }\n",
              "    20% {\n",
              "      border-color: transparent;\n",
              "      border-left-color: var(--fill-color);\n",
              "      border-top-color: var(--fill-color);\n",
              "    }\n",
              "    30% {\n",
              "      border-color: transparent;\n",
              "      border-left-color: var(--fill-color);\n",
              "      border-top-color: var(--fill-color);\n",
              "      border-right-color: var(--fill-color);\n",
              "    }\n",
              "    40% {\n",
              "      border-color: transparent;\n",
              "      border-right-color: var(--fill-color);\n",
              "      border-top-color: var(--fill-color);\n",
              "    }\n",
              "    60% {\n",
              "      border-color: transparent;\n",
              "      border-right-color: var(--fill-color);\n",
              "    }\n",
              "    80% {\n",
              "      border-color: transparent;\n",
              "      border-right-color: var(--fill-color);\n",
              "      border-bottom-color: var(--fill-color);\n",
              "    }\n",
              "    90% {\n",
              "      border-color: transparent;\n",
              "      border-bottom-color: var(--fill-color);\n",
              "    }\n",
              "  }\n",
              "</style>\n",
              "\n",
              "  <script>\n",
              "    async function quickchart(key) {\n",
              "      const quickchartButtonEl =\n",
              "        document.querySelector('#' + key + ' button');\n",
              "      quickchartButtonEl.disabled = true;  // To prevent multiple clicks.\n",
              "      quickchartButtonEl.classList.add('colab-df-spinner');\n",
              "      try {\n",
              "        const charts = await google.colab.kernel.invokeFunction(\n",
              "            'suggestCharts', [key], {});\n",
              "      } catch (error) {\n",
              "        console.error('Error during call to suggestCharts:', error);\n",
              "      }\n",
              "      quickchartButtonEl.classList.remove('colab-df-spinner');\n",
              "      quickchartButtonEl.classList.add('colab-df-quickchart-complete');\n",
              "    }\n",
              "    (() => {\n",
              "      let quickchartButtonEl =\n",
              "        document.querySelector('#df-71628628-9aeb-4049-bac3-33a30c6dad14 button');\n",
              "      quickchartButtonEl.style.display =\n",
              "        google.colab.kernel.accessAllowed ? 'block' : 'none';\n",
              "    })();\n",
              "  </script>\n",
              "</div>\n",
              "\n",
              "    </div>\n",
              "  </div>\n"
            ],
            "application/vnd.google.colaboratory.intrinsic+json": {
              "type": "dataframe",
              "variable_name": "data",
              "summary": "{\n  \"name\": \"data\",\n  \"rows\": 2812,\n  \"fields\": [\n    {\n      \"column\": \"State\",\n      \"properties\": {\n        \"dtype\": \"category\",\n        \"num_unique_values\": 1,\n        \"samples\": [\n          \"IMO\"\n        ],\n        \"semantic_type\": \"\",\n        \"description\": \"\"\n      }\n    },\n    {\n      \"column\": \"LGA\",\n      \"properties\": {\n        \"dtype\": \"category\",\n        \"num_unique_values\": 27,\n        \"samples\": [\n          \"ISIALA MBANO\"\n        ],\n        \"semantic_type\": \"\",\n        \"description\": \"\"\n      }\n    },\n    {\n      \"column\": \"Ward\",\n      \"properties\": {\n        \"dtype\": \"category\",\n        \"num_unique_values\": 258,\n        \"samples\": [\n          \"OGBOKO I\"\n        ],\n        \"semantic_type\": \"\",\n        \"description\": \"\"\n      }\n    },\n    {\n      \"column\": \"PU-Code\",\n      \"properties\": {\n        \"dtype\": \"string\",\n        \"num_unique_values\": 2812,\n        \"samples\": [\n          \"16-05-04-001\"\n        ],\n        \"semantic_type\": \"\",\n        \"description\": \"\"\n      }\n    },\n    {\n      \"column\": \"PU-Name\",\n      \"properties\": {\n        \"dtype\": \"string\",\n        \"num_unique_values\": 2634,\n        \"samples\": [\n          \"PRI. SCH. UPE/UMUNAM\"\n        ],\n        \"semantic_type\": \"\",\n        \"description\": \"\"\n      }\n    },\n    {\n      \"column\": \"Accredited_Voters\",\n      \"properties\": {\n        \"dtype\": \"number\",\n        \"std\": 72,\n        \"min\": 0,\n        \"max\": 588,\n        \"num_unique_values\": 292,\n        \"samples\": [\n          137\n        ],\n        \"semantic_type\": \"\",\n        \"description\": \"\"\n      }\n    },\n    {\n      \"column\": \"Registered_Voters\",\n      \"properties\": {\n        \"dtype\": \"number\",\n        \"std\": 279,\n        \"min\": 0,\n        \"max\": 2248,\n        \"num_unique_values\": 923,\n        \"samples\": [\n          375\n        ],\n        \"semantic_type\": \"\",\n        \"description\": \"\"\n      }\n    },\n    {\n      \"column\": \"APC\",\n      \"properties\": {\n        \"dtype\": \"number\",\n        \"std\": 36,\n        \"min\": 0,\n        \"max\": 600,\n        \"num_unique_values\": 123,\n        \"samples\": [\n          73\n        ],\n        \"semantic_type\": \"\",\n        \"description\": \"\"\n      }\n    },\n    {\n      \"column\": \"LP\",\n      \"properties\": {\n        \"dtype\": \"number\",\n        \"std\": 66,\n        \"min\": 0,\n        \"max\": 542,\n        \"num_unique_values\": 281,\n        \"samples\": [\n          73\n        ],\n        \"semantic_type\": \"\",\n        \"description\": \"\"\n      }\n    },\n    {\n      \"column\": \"PDP\",\n      \"properties\": {\n        \"dtype\": \"number\",\n        \"std\": 15,\n        \"min\": 0,\n        \"max\": 480,\n        \"num_unique_values\": 73,\n        \"samples\": [\n          11\n        ],\n        \"semantic_type\": \"\",\n        \"description\": \"\"\n      }\n    },\n    {\n      \"column\": \"NNPP\",\n      \"properties\": {\n        \"dtype\": \"number\",\n        \"std\": 1,\n        \"min\": 0,\n        \"max\": 31,\n        \"num_unique_values\": 11,\n        \"samples\": [\n          4\n        ],\n        \"semantic_type\": \"\",\n        \"description\": \"\"\n      }\n    },\n    {\n      \"column\": \"Location\",\n      \"properties\": {\n        \"dtype\": \"string\",\n        \"num_unique_values\": 2693,\n        \"samples\": [\n          \"DURUOSIMIRI SQ., ISIOZI, UMUAKA II, NJABA, IMO, Nigeria\"\n        ],\n        \"semantic_type\": \"\",\n        \"description\": \"\"\n      }\n    },\n    {\n      \"column\": \"Lat_Long\",\n      \"properties\": {\n        \"dtype\": \"category\",\n        \"num_unique_values\": 245,\n        \"samples\": [\n          \"(5.7403146, 7.2819694)\"\n        ],\n        \"semantic_type\": \"\",\n        \"description\": \"\"\n      }\n    },\n    {\n      \"column\": \"Latitude\",\n      \"properties\": {\n        \"dtype\": \"number\",\n        \"std\": 0.15088838576520508,\n        \"min\": 5.2150845,\n        \"max\": 5.9171033,\n        \"num_unique_values\": 239,\n        \"samples\": [\n          5.7403146\n        ],\n        \"semantic_type\": \"\",\n        \"description\": \"\"\n      }\n    },\n    {\n      \"column\": \"Longitude\",\n      \"properties\": {\n        \"dtype\": \"number\",\n        \"std\": 0.14386003807748546,\n        \"min\": 6.72952,\n        \"max\": 7.3838239,\n        \"num_unique_values\": 241,\n        \"samples\": [\n          7.24847\n        ],\n        \"semantic_type\": \"\",\n        \"description\": \"\"\n      }\n    },\n    {\n      \"column\": \"cluster\",\n      \"properties\": {\n        \"dtype\": \"number\",\n        \"std\": 47,\n        \"min\": -1,\n        \"max\": 157,\n        \"num_unique_values\": 159,\n        \"samples\": [\n          77\n        ],\n        \"semantic_type\": \"\",\n        \"description\": \"\"\n      }\n    }\n  ]\n}"
            }
          },
          "metadata": {},
          "execution_count": 10
        }
      ]
    },
    {
      "cell_type": "code",
      "source": [
        "#data.to_csv('data_with_clusters.csv', index=False)  #Already downloaded and saved"
      ],
      "metadata": {
        "id": "HU3MSxkgif_q"
      },
      "execution_count": null,
      "outputs": []
    },
    {
      "cell_type": "code",
      "source": [
        "data.columns"
      ],
      "metadata": {
        "colab": {
          "base_uri": "https://localhost:8080/"
        },
        "id": "PQv7_UovjA76",
        "outputId": "475c4bec-7fb2-4d9a-d88e-7d52eb22bf6c"
      },
      "execution_count": null,
      "outputs": [
        {
          "output_type": "execute_result",
          "data": {
            "text/plain": [
              "Index(['State', 'LGA', 'Ward', 'PU-Code', 'PU-Name', 'Accredited_Voters',\n",
              "       'Registered_Voters', 'APC', 'LP', 'PDP', 'NNPP', 'Location', 'Lat_Long',\n",
              "       'Latitude', 'Longitude', 'cluster'],\n",
              "      dtype='object')"
            ]
          },
          "metadata": {},
          "execution_count": 12
        }
      ]
    },
    {
      "cell_type": "code",
      "source": [
        "import folium\n",
        "import numpy as np\n",
        "import matplotlib.pyplot as plt\n",
        "from folium.plugins import MarkerCluster\n",
        "\n",
        "# Generate distinct colors for clusters\n",
        "def get_color(cluster_id):\n",
        "    np.random.seed(cluster_id)\n",
        "    return \"#{:06x}\".format(np.random.randint(0, 0xFFFFFF))\n",
        "\n",
        "# Create a folium map centered at the average latitude and longitude\n",
        "m = folium.Map(location=[data['Latitude'].mean(), data['Longitude'].mean()], zoom_start=10)\n",
        "\n",
        "# Add markers for each polling unit with cluster information\n",
        "for _, row in data.iterrows():\n",
        "    cluster_color = get_color(row['cluster']) if row['cluster'] != -1 else \"#FF0000\"  # Red for noise points\n",
        "    folium.CircleMarker(\n",
        "        location=[row['Latitude'], row['Longitude']],\n",
        "        radius=6,\n",
        "        color=cluster_color,\n",
        "        fill=True,\n",
        "        fill_color=cluster_color,\n",
        "        fill_opacity=0.6,\n",
        "        popup=f\"Polling Unit: {row['PU-Name']}<br>Cluster: {row['cluster']}\"\n",
        "    ).add_to(m)\n",
        "\n",
        "# Save map as HTML\n",
        "m.save(\"polling_units_clusters.html\")\n"
      ],
      "metadata": {
        "id": "y5fEh2iqigLe"
      },
      "execution_count": null,
      "outputs": []
    },
    {
      "cell_type": "code",
      "source": [
        "\"\"\"\n",
        "# Display Map in Streamlit (if applicable)\n",
        "!pip install streamlit\n",
        "import streamlit as st\n",
        "st.write(\"### Polling Unit Clusters (DBSCAN Results)\")\n",
        "st.components.v1.html(m._repr_html_(), width=800, height=600)\n",
        "\"\"\""
      ],
      "metadata": {
        "id": "Jkp1IT4Wi8rC"
      },
      "execution_count": null,
      "outputs": []
    },
    {
      "cell_type": "code",
      "source": [],
      "metadata": {
        "id": "2LeVjDIYi8ug"
      },
      "execution_count": null,
      "outputs": []
    },
    {
      "cell_type": "code",
      "source": [],
      "metadata": {
        "id": "7Sn_VPwoi8xl"
      },
      "execution_count": null,
      "outputs": []
    },
    {
      "cell_type": "code",
      "source": [],
      "metadata": {
        "id": "9EUpxCZedccc"
      },
      "execution_count": null,
      "outputs": []
    },
    {
      "cell_type": "markdown",
      "source": [
        "###  Sensitivity Analysis on Neighborhood Radii"
      ],
      "metadata": {
        "id": "lcCNhj22dczf"
      }
    },
    {
      "cell_type": "code",
      "source": [
        "for eps_value in [500, 1000, 2000]:\n",
        "    clusters = perform_dbscan(distance_matrix, eps=eps_value, min_samples=3)\n",
        "    print(f'Clusters with eps={eps_value}: {len(set(clusters))}')\n"
      ],
      "metadata": {
        "id": "fRvjIhB6dXhQ"
      },
      "execution_count": null,
      "outputs": []
    },
    {
      "cell_type": "markdown",
      "source": [
        "## Sophisticated Outlier Score Calculation"
      ],
      "metadata": {
        "id": "-UGx1bRfdZPL"
      }
    },
    {
      "cell_type": "markdown",
      "source": [
        "### Local Moran’s I for Spatial Autocorrelation"
      ],
      "metadata": {
        "id": "5U52kU3vdo8x"
      }
    },
    {
      "cell_type": "code",
      "source": [
        "import pysal as ps\n",
        "\n",
        "# Prepare the spatial weights matrix (queen contiguity for neighbors)\n",
        "w = ps.lib.weights.Queen.from_dataframe(data)\n",
        "\n",
        "# Calculate Local Moran's I\n",
        "mi = ps.explore.esda.Moran_Local(data['vote_percentage'], w)\n",
        "data['local_moran_i'] = mi.Is\n",
        "\n",
        "# Inspect Moran's I values\n",
        "data[['polling_unit', 'local_moran_i']].head()\n"
      ],
      "metadata": {
        "id": "zltGvsKTdX6j"
      },
      "execution_count": null,
      "outputs": []
    },
    {
      "cell_type": "code",
      "source": [],
      "metadata": {
        "id": "5tnjUeSJdYBd"
      },
      "execution_count": null,
      "outputs": []
    },
    {
      "cell_type": "markdown",
      "source": [
        "### Getis-Ord Gi for Hot Spot Analysis"
      ],
      "metadata": {
        "id": "_Bk4TD_0dsiW"
      }
    },
    {
      "cell_type": "code",
      "source": [
        "from pysal.model import spreg\n",
        "\n",
        "# Run Getis-Ord Gi* test\n",
        "g = ps.explore.esda.GetisOrd_Gi(data['vote_percentage'], w)\n",
        "data['gi_star'] = g.Zs\n",
        "\n",
        "# Inspect results\n",
        "data[['polling_unit', 'gi_star']].head()\n"
      ],
      "metadata": {
        "id": "0_LlKIQs6UJU"
      },
      "execution_count": null,
      "outputs": []
    },
    {
      "cell_type": "markdown",
      "source": [
        "### Isolation Forest for Anomaly Detection"
      ],
      "metadata": {
        "id": "dpx9wjU5dxFQ"
      }
    },
    {
      "cell_type": "code",
      "source": [
        "from sklearn.ensemble import IsolationForest\n",
        "\n",
        "# Initialize Isolation Forest\n",
        "iso_forest = IsolationForest(contamination=0.05)\n",
        "\n",
        "# Fit the model to the vote percentages or any other numerical feature\n",
        "data['outlier_score'] = iso_forest.fit_predict(data[['vote_percentage']])\n",
        "\n",
        "# Convert outlier labels to 1 (outlier) or 0 (inlier)\n",
        "data['outlier_score'] = data['outlier_score'].apply(lambda x: 1 if x == -1 else 0)\n",
        "\n",
        "# Inspect the outlier labels\n",
        "data[['polling_unit', 'outlier_score']].head()\n"
      ],
      "metadata": {
        "id": "XNezbOhkdzvt"
      },
      "execution_count": null,
      "outputs": []
    },
    {
      "cell_type": "code",
      "source": [],
      "metadata": {
        "id": "c5QDWAUZd0Pz"
      },
      "execution_count": null,
      "outputs": []
    },
    {
      "cell_type": "code",
      "source": [],
      "metadata": {
        "id": "ltJntb-id6HN"
      },
      "execution_count": null,
      "outputs": []
    },
    {
      "cell_type": "markdown",
      "source": [
        "## Temporal and Demographic Comparative Analysis"
      ],
      "metadata": {
        "id": "im1glDnDd61_"
      }
    },
    {
      "cell_type": "code",
      "source": [
        "# Assuming 'historical_data.csv' has similar structure but for past elections\n",
        "historical_data = pd.read_csv('historical_data.csv')\n",
        "\n",
        "# Compare voting percentage over time\n",
        "historical_comparison = data.merge(historical_data, on='polling_unit', suffixes=('_current', '_historical'))\n",
        "\n",
        "# Compute voting percentage change\n",
        "historical_comparison['vote_percentage_change'] = historical_comparison['vote_percentage_current'] - historical_comparison['vote_percentage_historical']\n",
        "\n",
        "# Inspect comparison results\n",
        "historical_comparison[['polling_unit', 'vote_percentage_change']].head()\n"
      ],
      "metadata": {
        "id": "SFwoCiEAd6Kf"
      },
      "execution_count": null,
      "outputs": []
    },
    {
      "cell_type": "markdown",
      "source": [
        "For demographic analysis, you can merge with socio-economic data (e.g., income, education level) if available."
      ],
      "metadata": {
        "id": "zPCuynSrd-kf"
      }
    },
    {
      "cell_type": "code",
      "source": [
        "# Assuming 'demographic_data.csv' contains socio-economic data by polling unit\n",
        "demographic_data = pd.read_csv('demographic_data.csv')\n",
        "\n",
        "# Merge demographic data\n",
        "data = data.merge(demographic_data, on='polling_unit')\n",
        "\n",
        "# Investigate correlation between demographic factors and voting percentages\n",
        "correlations = data.corr()\n",
        "print(correlations)\n"
      ],
      "metadata": {
        "id": "u9b8m39Td0TE"
      },
      "execution_count": null,
      "outputs": []
    },
    {
      "cell_type": "markdown",
      "source": [
        "## Interactive Visualization and Reporting"
      ],
      "metadata": {
        "id": "4aQCcrN8eCqM"
      }
    },
    {
      "cell_type": "markdown",
      "source": [
        "###  Streamlit Dashboard"
      ],
      "metadata": {
        "id": "luk5wDvMeGzu"
      }
    },
    {
      "cell_type": "code",
      "source": [
        "import streamlit as st\n",
        "import folium\n",
        "from folium.plugins import MarkerCluster\n",
        "\n",
        "# Create map centered on average location\n",
        "m = folium.Map(location=[data['latitude'].mean(), data['longitude'].mean()], zoom_start=10)\n",
        "\n",
        "# Add clustering to the map\n",
        "marker_cluster = MarkerCluster().add_to(m)\n",
        "\n",
        "# Add polling unit markers\n",
        "for _, row in data.iterrows():\n",
        "    folium.Marker(\n",
        "        location=[row['latitude'], row['longitude']],\n",
        "        popup=f\"Polling Unit: {row['polling_unit']}<br>Outlier Score: {row['outlier_score']}\",\n",
        "    ).add_to(marker_cluster)\n",
        "\n",
        "# Display map\n",
        "st.write(m)\n"
      ],
      "metadata": {
        "id": "J_V9LQr4d_WL"
      },
      "execution_count": null,
      "outputs": []
    },
    {
      "cell_type": "code",
      "source": [],
      "metadata": {
        "id": "fjgJFEnYd_Zr"
      },
      "execution_count": null,
      "outputs": []
    },
    {
      "cell_type": "markdown",
      "source": [
        "### Visualizing Outliers and Clusters"
      ],
      "metadata": {
        "id": "LfoZnToneLG1"
      }
    },
    {
      "cell_type": "code",
      "source": [
        "import seaborn as sns\n",
        "import matplotlib.pyplot as plt\n",
        "\n",
        "# Visualizing outlier scores\n",
        "sns.boxplot(x='outlier_score', y='vote_percentage', data=data)\n",
        "plt.title('Outlier Detection by Vote Percentage')\n",
        "plt.show()\n"
      ],
      "metadata": {
        "id": "key2iw-oeLgj"
      },
      "execution_count": null,
      "outputs": []
    },
    {
      "cell_type": "code",
      "source": [],
      "metadata": {
        "id": "vgLx-viCeLj3"
      },
      "execution_count": null,
      "outputs": []
    },
    {
      "cell_type": "markdown",
      "source": [
        "## Reporting and Deliverables"
      ],
      "metadata": {
        "id": "tK2LpQF-ePlM"
      }
    },
    {
      "cell_type": "code",
      "source": [
        "from reportlab.lib.pagesizes import letter\n",
        "from reportlab.pdfgen import canvas\n",
        "\n",
        "# Create PDF report\n",
        "c = canvas.Canvas(\"Election_Integrity_Report.pdf\", pagesize=letter)\n",
        "\n",
        "# Write content\n",
        "c.drawString(100, 750, \"Election Integrity Report\")\n",
        "c.drawString(100, 730, f\"Top 5 Outliers:\")\n",
        "c.drawString(100, 710, \"Polling Unit 1: Reason for anomaly...\")\n",
        "c.save()\n"
      ],
      "metadata": {
        "id": "w-DVWyqxeLm5"
      },
      "execution_count": null,
      "outputs": []
    },
    {
      "cell_type": "code",
      "source": [],
      "metadata": {
        "id": "hoPU4qmreLqY"
      },
      "execution_count": null,
      "outputs": []
    }
  ]
}